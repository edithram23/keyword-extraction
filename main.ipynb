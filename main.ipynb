{
 "cells": [
  {
   "cell_type": "markdown",
   "metadata": {},
   "source": [
    "### Section 1: Setup and Imports"
   ]
  },
  {
   "cell_type": "code",
   "execution_count": 1,
   "metadata": {},
   "outputs": [
    {
     "name": "stderr",
     "output_type": "stream",
     "text": [
      "g:\\SNU\\csc\\Intern\\Intern - HCL\\Assignment\\hcl\\lib\\site-packages\\tqdm\\auto.py:21: TqdmWarning: IProgress not found. Please update jupyter and ipywidgets. See https://ipywidgets.readthedocs.io/en/stable/user_install.html\n",
      "  from .autonotebook import tqdm as notebook_tqdm\n"
     ]
    },
    {
     "name": "stdout",
     "output_type": "stream",
     "text": [
      "WARNING:tensorflow:From g:\\SNU\\csc\\Intern\\Intern - HCL\\Assignment\\hcl\\lib\\site-packages\\tf_keras\\src\\losses.py:2976: The name tf.losses.sparse_softmax_cross_entropy is deprecated. Please use tf.compat.v1.losses.sparse_softmax_cross_entropy instead.\n",
      "\n",
      "g:\\SNU\\csc\\Intern\\Intern - HCL\\Assignment\\hcl\\lib\\site-packages\n"
     ]
    },
    {
     "name": "stderr",
     "output_type": "stream",
     "text": [
      "[nltk_data] Downloading package punkt to\n",
      "[nltk_data]     C:\\Users\\edith\\AppData\\Roaming\\nltk_data...\n",
      "[nltk_data]   Package punkt is already up-to-date!\n",
      "[nltk_data] Downloading package stopwords to\n",
      "[nltk_data]     C:\\Users\\edith\\AppData\\Roaming\\nltk_data...\n",
      "[nltk_data]   Package stopwords is already up-to-date!\n",
      "[nltk_data] Downloading package wordnet to\n",
      "[nltk_data]     C:\\Users\\edith\\AppData\\Roaming\\nltk_data...\n",
      "[nltk_data]   Package wordnet is already up-to-date!\n",
      "[nltk_data] Downloading package punkt_tab to\n",
      "[nltk_data]     C:\\Users\\edith\\AppData\\Roaming\\nltk_data...\n",
      "[nltk_data]   Package punkt_tab is already up-to-date!\n"
     ]
    },
    {
     "data": {
      "text/plain": [
       "True"
      ]
     },
     "execution_count": 1,
     "metadata": {},
     "output_type": "execute_result"
    }
   ],
   "source": [
    "import pandas as pd\n",
    "import numpy as np\n",
    "import warnings\n",
    "from transformers import pipeline\n",
    "import nltk\n",
    "import re\n",
    "import os\n",
    "from nltk.corpus import stopwords\n",
    "from nltk.tokenize import word_tokenize\n",
    "from nltk.stem import WordNetLemmatizer\n",
    "from sklearn.feature_extraction.text import TfidfVectorizer\n",
    "from sentence_transformers import SentenceTransformer\n",
    "from rake_nltk import Rake\n",
    "import spacy\n",
    "from typing import List\n",
    "import json\n",
    "from pydantic import BaseModel,Field\n",
    "from groq import Groq\n",
    "from typing import List\n",
    "import pytextrank\n",
    "from dotenv import load_dotenv\n",
    "nltk.download('punkt')\n",
    "nltk.download('stopwords')\n",
    "nltk.download('wordnet')\n",
    "nltk.download(\"punkt_tab\")\n",
    "warnings.filterwarnings('ignore')\n",
    "load_dotenv('.env')\n"
   ]
  },
  {
   "cell_type": "markdown",
   "metadata": {},
   "source": [
    "### Section 2: Data Loading"
   ]
  },
  {
   "cell_type": "code",
   "execution_count": 2,
   "metadata": {},
   "outputs": [
    {
     "name": "stdout",
     "output_type": "stream",
     "text": [
      "<class 'pandas.core.frame.DataFrame'>\n",
      "RangeIndex: 20 entries, 0 to 19\n",
      "Data columns (total 2 columns):\n",
      " #   Column    Non-Null Count  Dtype \n",
      "---  ------    --------------  ----- \n",
      " 0   Story ID  20 non-null     int64 \n",
      " 1   Story     20 non-null     object\n",
      "dtypes: int64(1), object(1)\n",
      "memory usage: 448.0+ bytes\n"
     ]
    }
   ],
   "source": [
    "df = pd.read_excel(\"Assessment_Stories.xlsx\")\n",
    "df.info()"
   ]
  },
  {
   "cell_type": "code",
   "execution_count": 3,
   "metadata": {},
   "outputs": [
    {
     "data": {
      "text/html": [
       "<div>\n",
       "<style scoped>\n",
       "    .dataframe tbody tr th:only-of-type {\n",
       "        vertical-align: middle;\n",
       "    }\n",
       "\n",
       "    .dataframe tbody tr th {\n",
       "        vertical-align: top;\n",
       "    }\n",
       "\n",
       "    .dataframe thead th {\n",
       "        text-align: right;\n",
       "    }\n",
       "</style>\n",
       "<table border=\"1\" class=\"dataframe\">\n",
       "  <thead>\n",
       "    <tr style=\"text-align: right;\">\n",
       "      <th></th>\n",
       "      <th>Story ID</th>\n",
       "      <th>Story</th>\n",
       "    </tr>\n",
       "  </thead>\n",
       "  <tbody>\n",
       "    <tr>\n",
       "      <th>0</th>\n",
       "      <td>597</td>\n",
       "      <td>He is talented and always ahead of the game He...</td>\n",
       "    </tr>\n",
       "    <tr>\n",
       "      <th>1</th>\n",
       "      <td>1254</td>\n",
       "      <td>Over the past seven years I have had the privi...</td>\n",
       "    </tr>\n",
       "    <tr>\n",
       "      <th>2</th>\n",
       "      <td>414</td>\n",
       "      <td>Its been only few months working with her but ...</td>\n",
       "    </tr>\n",
       "    <tr>\n",
       "      <th>3</th>\n",
       "      <td>2</td>\n",
       "      <td>My manager is a great leader. She is always su...</td>\n",
       "    </tr>\n",
       "    <tr>\n",
       "      <th>4</th>\n",
       "      <td>999</td>\n",
       "      <td>My manager consistently demonstrates remarkabl...</td>\n",
       "    </tr>\n",
       "  </tbody>\n",
       "</table>\n",
       "</div>"
      ],
      "text/plain": [
       "   Story ID                                              Story\n",
       "0       597  He is talented and always ahead of the game He...\n",
       "1      1254  Over the past seven years I have had the privi...\n",
       "2       414  Its been only few months working with her but ...\n",
       "3         2  My manager is a great leader. She is always su...\n",
       "4       999  My manager consistently demonstrates remarkabl..."
      ]
     },
     "execution_count": 3,
     "metadata": {},
     "output_type": "execute_result"
    }
   ],
   "source": [
    "df.head()"
   ]
  },
  {
   "cell_type": "markdown",
   "metadata": {},
   "source": [
    "### Section 3: Model Loadings"
   ]
  },
  {
   "cell_type": "code",
   "execution_count": 4,
   "metadata": {},
   "outputs": [
    {
     "name": "stderr",
     "output_type": "stream",
     "text": [
      "Device set to use cpu\n"
     ]
    }
   ],
   "source": [
    "# Keyword generator from text\n",
    "pipe = pipeline(\"text2text-generation\", model=\"ilsilfverskiold/bart-keyword-extractor\")"
   ]
  },
  {
   "cell_type": "code",
   "execution_count": 5,
   "metadata": {},
   "outputs": [],
   "source": [
    "# Sentence Transformer - generates embeddings for the sentence/stories\n",
    "model = SentenceTransformer('all-MiniLM-L6-v2')"
   ]
  },
  {
   "cell_type": "markdown",
   "metadata": {},
   "source": [
    "### Section 4: Text Cleaning Function"
   ]
  },
  {
   "cell_type": "code",
   "execution_count": 6,
   "metadata": {},
   "outputs": [],
   "source": [
    "stop_words = set(stopwords.words('english'))\n",
    "def clean_text(text):\n",
    "    \"\"\"\n",
    "    Cleans text by:\n",
    "    1. Converting to lowercase\n",
    "    2. Removing special characters\n",
    "    3. Removing stopwords\n",
    "    4. Lemmatization\n",
    "    5. Removing short words\n",
    "    \"\"\"\n",
    "    \n",
    "    text = text.lower()\n",
    "    text = re.sub(r'[^a-zA-Z\\s]', '', text)\n",
    "    excluded_words = r'\\b(manager)\\b'\n",
    "    text = re.sub(excluded_words, '', text)\n",
    "    \n",
    "    tokens = word_tokenize(text)\n",
    "    \n",
    "    tokens = [token for token in tokens if token not in stop_words]\n",
    "    #word lemmatization\n",
    "    lemmatizer = WordNetLemmatizer()\n",
    "    tokens = [lemmatizer.lemmatize(token) for token in tokens]\n",
    "    # Remove short words (length < 3)\n",
    "    tokens = [token for token in tokens if len(token) > 2]\n",
    "    cleaned_text = ' '.join(tokens)\n",
    "    return cleaned_text, tokens"
   ]
  },
  {
   "cell_type": "code",
   "execution_count": 7,
   "metadata": {},
   "outputs": [],
   "source": [
    "df[\"cleaned_text\"], df[\"tokens\"] = zip(*df[\"Story\"].apply(clean_text))"
   ]
  },
  {
   "cell_type": "markdown",
   "metadata": {},
   "source": [
    "### Section 5: Keyword Extraction"
   ]
  },
  {
   "cell_type": "markdown",
   "metadata": {},
   "source": [
    "#### TF-IDF"
   ]
  },
  {
   "cell_type": "code",
   "execution_count": 8,
   "metadata": {},
   "outputs": [],
   "source": [
    "# Initialize TF-IDF\n",
    "tfidf = TfidfVectorizer(\n",
    "        stop_words='english',\n",
    "        ngram_range=(3,3),  # Consider both unigrams and bigrams\n",
    "        max_features=1000\n",
    "    )\n",
    "tfidf_matrix = tfidf.fit_transform(df['cleaned_text'])\n",
    "feature_names = tfidf.get_feature_names_out()"
   ]
  },
  {
   "cell_type": "code",
   "execution_count": 9,
   "metadata": {},
   "outputs": [],
   "source": [
    "keywords_per_doc = []\n",
    "for doc_index in range(tfidf_matrix.shape[0]):\n",
    "    tfidf_scores = tfidf_matrix[doc_index].toarray()[0]\n",
    "    # Get top keywords\n",
    "    top_indices = np.argsort(tfidf_scores)[-5:][::-1]\n",
    "    top_keywords = [feature_names[i] for i in top_indices]\n",
    "    \n",
    "    keywords_per_doc.append(top_keywords)"
   ]
  },
  {
   "cell_type": "code",
   "execution_count": 10,
   "metadata": {},
   "outputs": [
    {
     "data": {
      "text/plain": [
       "0    [requirement pit hole, people expertise value,...\n",
       "1    [working various manager, ability guidance cru...\n",
       "2    [better direct reporting, working look like, b...\n",
       "3    [time high standard, success showed important,...\n",
       "4    [shoe level empathy, truly grasp perspective, ...\n",
       "Name: keywords_tf-idf, dtype: object"
      ]
     },
     "execution_count": 10,
     "metadata": {},
     "output_type": "execute_result"
    }
   ],
   "source": [
    "df[\"keywords_tf-idf\"]=keywords_per_doc\n",
    "df[\"keywords_tf-idf\"].head(5)"
   ]
  },
  {
   "cell_type": "code",
   "execution_count": 58,
   "metadata": {},
   "outputs": [
    {
     "name": "stdout",
     "output_type": "stream",
     "text": [
      "Index 1\n",
      "Over the past seven years I have had the privilege of working with various managers who have been instrumental in supporting my career growth and providing valuable input for my professional development. During challenging times they offered valuable suggestions and assistance enabling me to enhance both my technical skills and social abilities. Their guidance has been crucial to my overall growth as a professional.\n",
      "Keywords :  ['working various manager', 'ability guidance crucial', 'manager instrumental supporting', 'year privilege working', 'seven year privilege']\n"
     ]
    }
   ],
   "source": [
    "print(\"Index 1\")\n",
    "print(df['Story'].iloc[1])\n",
    "print('Keywords : ',df['keywords_tf-idf'].iloc[1])"
   ]
  },
  {
   "cell_type": "markdown",
   "metadata": {},
   "source": [
    "#### RAKE : Rapid Automatic Keyword Extraction"
   ]
  },
  {
   "cell_type": "code",
   "execution_count": 11,
   "metadata": {},
   "outputs": [],
   "source": [
    "def keyword_rake(rakee:Rake,text):\n",
    "    rakee.extract_keywords_from_text(text)\n",
    "    return rakee.get_ranked_phrases()"
   ]
  },
  {
   "cell_type": "code",
   "execution_count": 12,
   "metadata": {},
   "outputs": [],
   "source": [
    "r = Rake()\n",
    "df[\"keywords_rake\"] = [keyword_rake(r,text) for text in df[\"Story\"]]"
   ]
  },
  {
   "cell_type": "code",
   "execution_count": 13,
   "metadata": {},
   "outputs": [
    {
     "data": {
      "text/plain": [
       "0    [plans deliverables reasonably great, recognis...\n",
       "1    [providing valuable input, past seven years, o...\n",
       "2    [hcl people transform people empowers, pings h...\n",
       "3    [feeling really overwhelmed, team members succ...\n",
       "4    [manager consistently demonstrates remarkable ...\n",
       "Name: keywords_rake, dtype: object"
      ]
     },
     "execution_count": 13,
     "metadata": {},
     "output_type": "execute_result"
    }
   ],
   "source": [
    "df[\"keywords_rake\"].head(5)"
   ]
  },
  {
   "cell_type": "code",
   "execution_count": 57,
   "metadata": {},
   "outputs": [
    {
     "name": "stdout",
     "output_type": "stream",
     "text": [
      "Index 1\n",
      "Over the past seven years I have had the privilege of working with various managers who have been instrumental in supporting my career growth and providing valuable input for my professional development. During challenging times they offered valuable suggestions and assistance enabling me to enhance both my technical skills and social abilities. Their guidance has been crucial to my overall growth as a professional.\n",
      "Keywords :  ['providing valuable input', 'past seven years', 'offered valuable suggestions', 'various managers', 'technical skills', 'social abilities', 'overall growth', 'challenging times', 'career growth', 'assistance enabling', 'professional development', 'professional', 'working', 'supporting', 'privilege', 'instrumental', 'guidance', 'enhance', 'crucial']\n"
     ]
    }
   ],
   "source": [
    "print(\"Index 1\")\n",
    "print(df['Story'].iloc[1])\n",
    "print('Keywords : ',df['keywords_rake'].iloc[1])"
   ]
  },
  {
   "cell_type": "markdown",
   "metadata": {},
   "source": [
    "#### TextRank"
   ]
  },
  {
   "cell_type": "code",
   "execution_count": 14,
   "metadata": {},
   "outputs": [],
   "source": [
    "def keyword_textrank(nlp,text):\n",
    "    doc = nlp(text)\n",
    "    key_words = [i.text for i in doc._.phrases[:6]]\n",
    "    return key_words"
   ]
  },
  {
   "cell_type": "code",
   "execution_count": 15,
   "metadata": {},
   "outputs": [],
   "source": [
    "nlp = spacy.load(\"en_core_web_sm\")\n",
    "nlp.add_pipe(\"textrank\")\n",
    "df[\"keywords_text_rank\"] = [keyword_textrank(nlp,text) for text in df[\"Story\"]]"
   ]
  },
  {
   "cell_type": "code",
   "execution_count": null,
   "metadata": {},
   "outputs": [
    {
     "data": {
      "text/plain": [
       "0    [new things, pit holes, enough time, Recognise...\n",
       "1    [valuable suggestions, valuable input, various...\n",
       "2    [HCL people, people, ease, confidence, first, ...\n",
       "3    [time, help, a supportive manager, ways, guida...\n",
       "4    [fosters collaboration trust, remarkable compo...\n",
       "Name: keywords_text_rank, dtype: object"
      ]
     },
     "execution_count": 16,
     "metadata": {},
     "output_type": "execute_result"
    }
   ],
   "source": [
    "df[\"keywords_text_rank\"].head(5)"
   ]
  },
  {
   "cell_type": "code",
   "execution_count": 56,
   "metadata": {},
   "outputs": [
    {
     "name": "stdout",
     "output_type": "stream",
     "text": [
      "Index 1\n",
      "Over the past seven years I have had the privilege of working with various managers who have been instrumental in supporting my career growth and providing valuable input for my professional development. During challenging times they offered valuable suggestions and assistance enabling me to enhance both my technical skills and social abilities. Their guidance has been crucial to my overall growth as a professional.\n",
      "Keywords :  ['valuable suggestions', 'valuable input', 'various managers', 'social abilities', 'challenging times', 'assistance']\n"
     ]
    }
   ],
   "source": [
    "print(\"Index 1\")\n",
    "print(df['Story'].iloc[1])\n",
    "print('Keywords : ',df[\"keywords_text_rank\"].iloc[1])"
   ]
  },
  {
   "cell_type": "markdown",
   "metadata": {},
   "source": [
    "#### BART - Keyword Generator \n",
    "Text-to-Text Gen model"
   ]
  },
  {
   "cell_type": "code",
   "execution_count": 17,
   "metadata": {},
   "outputs": [],
   "source": [
    "def extract_keywords(text):\n",
    "    model_output = pipe(text)\n",
    "    output = []\n",
    "    for i in model_output[0][\"generated_text\"].split(\",\"):\n",
    "        output.append(i.strip())\n",
    "    return output\n",
    "df[\"keywords_uncleaned\"] = df['Story'].apply(extract_keywords)\n",
    "df[\"keywords_cleaned_text\"] = df['cleaned_text'].apply(extract_keywords)"
   ]
  },
  {
   "cell_type": "code",
   "execution_count": 18,
   "metadata": {},
   "outputs": [],
   "source": [
    "def unique_keywords(key1:list,key2:list):\n",
    "    combined = list(set(key1 + key2))\n",
    "    cleaned = [keyword for keyword in combined if not re.search(r'\\b(manager|HCL)\\b', keyword, re.IGNORECASE)]    \n",
    "    return cleaned\n",
    "df[\"keywords\"] = [unique_keywords(i,j) for i,j in zip(df[\"keywords_uncleaned\"],df[\"keywords_cleaned_text\"])]\n",
    "    "
   ]
  },
  {
   "cell_type": "code",
   "execution_count": 19,
   "metadata": {},
   "outputs": [
    {
     "name": "stdout",
     "output_type": "stream",
     "text": [
      "Index 1\n",
      "Over the past seven years I have had the privilege of working with various managers who have been instrumental in supporting my career growth and providing valuable input for my professional development. During challenging times they offered valuable suggestions and assistance enabling me to enhance both my technical skills and social abilities. Their guidance has been crucial to my overall growth as a professional.\n",
      "Keywords :  ['technical skill', 'social ability guidance', 'career growth', 'professional development']\n"
     ]
    }
   ],
   "source": [
    "print(\"Index 1\")\n",
    "print(df['Story'].iloc[1])\n",
    "print('Keywords : ',df['keywords'].iloc[1])"
   ]
  },
  {
   "cell_type": "markdown",
   "metadata": {},
   "source": [
    "### Section 6: Elasticsearch Setup and Indexing\n",
    "- Elasticsearch is a powerful distributed search engine designed to handle keyword search efficiently.\n",
    "- Supports exact matches, wildcards, customizable relevance scoring, etc.\n",
    "- Offers semantic searche in beta version"
   ]
  },
  {
   "cell_type": "code",
   "execution_count": 20,
   "metadata": {},
   "outputs": [],
   "source": [
    "# test_connection.py\n",
    "from elasticsearch import Elasticsearch\n",
    "\n",
    "es = Elasticsearch(\n",
    "    \"https://localhost:9200\",\n",
    "    basic_auth=(\"elastic\", \"ExuU*TZhQEjtT_uFm9pY\"),  \n",
    "    verify_certs=False  \n",
    ")"
   ]
  },
  {
   "cell_type": "code",
   "execution_count": 36,
   "metadata": {},
   "outputs": [
    {
     "data": {
      "text/plain": [
       "ObjectApiResponse({'acknowledged': True})"
      ]
     },
     "execution_count": 36,
     "metadata": {},
     "output_type": "execute_result"
    }
   ],
   "source": [
    "es.indices.delete(index=\"stories\")"
   ]
  },
  {
   "cell_type": "code",
   "execution_count": 37,
   "metadata": {},
   "outputs": [],
   "source": [
    "mapping = {\n",
    "    \"mappings\": {\n",
    "        \"properties\": {\n",
    "            \"text\": {\"type\": \"text\"},\n",
    "            \"keywords\": {\"type\": \"keyword\"},\n",
    "            \"text_vector\": {\n",
    "                \"type\": \"dense_vector\",\n",
    "                \"dims\": 384,  # Dimension of the model's embeddings\n",
    "                \"index\": True,\n",
    "                \"similarity\": \"cosine\"\n",
    "            }\n",
    "        }\n",
    "    }\n",
    "}"
   ]
  },
  {
   "cell_type": "code",
   "execution_count": 38,
   "metadata": {},
   "outputs": [
    {
     "data": {
      "text/plain": [
       "ObjectApiResponse({'acknowledged': True, 'shards_acknowledged': True, 'index': 'stories'})"
      ]
     },
     "execution_count": 38,
     "metadata": {},
     "output_type": "execute_result"
    }
   ],
   "source": [
    "elastic_ind = \"stories\"\n",
    "es.indices.create(index=elastic_ind, body=mapping)"
   ]
  },
  {
   "cell_type": "code",
   "execution_count": 39,
   "metadata": {},
   "outputs": [],
   "source": [
    "for index, row in df.iterrows():\n",
    "    \n",
    "    # generating embeddings\n",
    "    text_embeddings =  model.encode(row['Story'])\n",
    "    \n",
    "    doc = {\n",
    "        \"story_id\": row['Story ID'],\n",
    "        \"text\": row['Story'],\n",
    "        \"keywords\":row[\"keywords\"],\n",
    "        \"text_vector\":text_embeddings.tolist()\n",
    "    }\n",
    "    es.index(index=elastic_ind, document=doc)"
   ]
  },
  {
   "cell_type": "code",
   "execution_count": 41,
   "metadata": {},
   "outputs": [
    {
     "name": "stdout",
     "output_type": "stream",
     "text": [
      "Total documents indexed: 20\n"
     ]
    }
   ],
   "source": [
    "resp = es.count(index=elastic_ind)\n",
    "print(f\"Total documents indexed: {resp['count']}\")"
   ]
  },
  {
   "cell_type": "markdown",
   "metadata": {},
   "source": [
    "#### Search Implementation"
   ]
  },
  {
   "cell_type": "markdown",
   "metadata": {},
   "source": [
    "##### Simple Search Implementation"
   ]
  },
  {
   "cell_type": "code",
   "execution_count": 51,
   "metadata": {},
   "outputs": [
    {
     "name": "stdout",
     "output_type": "stream",
     "text": [
      "We here at BD Sparks Campus have an exceptional manager. Gary is always willing to help us guide us when needed and offer advice to help us better ourselves for both HCL and of course BD. This is a unique campus environment and Gary has helped us foster an exceptional team of Techs encouraged learning and has been a tremendous manager not only to us here at Sparks Campus but me personally. I am grateful for the leadership from Gary and Steve Matt. We are Blessed to have such good Men leading the way for HCL and our teams.\n",
      "keywords ['mentorship', 'grateful leadership', 'exceptional team tech', 'campus environment', 'leadership', 'spark campus']\n",
      "----------\n",
      "Its been only few months working with her but looks like I had to spend more than 4 years to find a manager like that. She made me comfortable feel at ease from the very first interaction. She transformed me motivated me replied to all my pings howsoever annoying they may have been helped me regain confidence which was lost somewhere during a lengthy demotivational journey. Its not just business. At HCL people transform people empowers them and who else can do that better than your direct reporting manager. I hope this message reaches her.\n",
      "keywords ['motivation', 'month working', 'comfort', 'transformation']\n",
      "----------\n",
      "My manager is a great leader. She is always supportive and encouraging and she is always looking for ways to help her team members succeed. One day I was working on a particularly challenging project and I was feeling really overwhelmed. I went to my manager for help and she took the time to sit down with me and listen to my concerns. She then offered her help and guidance and she helped me to develop a plan to complete the project. With my managers help I was able to complete the project on time and to a high standard. I was so grateful for her support and I was really impressed by her leadership skills. This experience was a WOW moment for me because it showed me how much my manager cares about her team members and how committed she is to their success. It also showed me how important it is to have a supportive manager who is willing to help you when you need it. I am so lucky to have my manager as a role model. She is a great example of what it means to be a leader and I\n",
      "keywords ['team member support', 'leadership skills', 'supportive leadership', 'leadership skill', 'team members']\n",
      "----------\n"
     ]
    }
   ],
   "source": [
    "# Simple search : first 3\n",
    "resp = es.search(index=elastic_ind, query={\"match\": {\"text\": \"helped me personally\"}},size=3)\n",
    "for hits in resp.body['hits']['hits']:\n",
    "    print(hits['_source']['text'])\n",
    "    print('keywords',hits['_source']['keywords'])\n",
    "    print('-'*10)"
   ]
  },
  {
   "cell_type": "markdown",
   "metadata": {},
   "source": [
    "##### Search using both text and keywords"
   ]
  },
  {
   "cell_type": "code",
   "execution_count": 49,
   "metadata": {},
   "outputs": [
    {
     "name": "stdout",
     "output_type": "stream",
     "text": [
      "We here at BD Sparks Campus have an exceptional manager. Gary is always willing to help us guide us when needed and offer advice to help us better ourselves for both HCL and of course BD. This is a unique campus environment and Gary has helped us foster an exceptional team of Techs encouraged learning and has been a tremendous manager not only to us here at Sparks Campus but me personally. I am grateful for the leadership from Gary and Steve Matt. We are Blessed to have such good Men leading the way for HCL and our teams.\n",
      "keywords ['mentorship', 'grateful leadership', 'exceptional team tech', 'campus environment', 'leadership', 'spark campus']\n",
      "----------\n",
      "Its been only few months working with her but looks like I had to spend more than 4 years to find a manager like that. She made me comfortable feel at ease from the very first interaction. She transformed me motivated me replied to all my pings howsoever annoying they may have been helped me regain confidence which was lost somewhere during a lengthy demotivational journey. Its not just business. At HCL people transform people empowers them and who else can do that better than your direct reporting manager. I hope this message reaches her.\n",
      "keywords ['motivation', 'month working', 'comfort', 'transformation']\n",
      "----------\n",
      "My manager is a great leader. She is always supportive and encouraging and she is always looking for ways to help her team members succeed. One day I was working on a particularly challenging project and I was feeling really overwhelmed. I went to my manager for help and she took the time to sit down with me and listen to my concerns. She then offered her help and guidance and she helped me to develop a plan to complete the project. With my managers help I was able to complete the project on time and to a high standard. I was so grateful for her support and I was really impressed by her leadership skills. This experience was a WOW moment for me because it showed me how much my manager cares about her team members and how committed she is to their success. It also showed me how important it is to have a supportive manager who is willing to help you when you need it. I am so lucky to have my manager as a role model. She is a great example of what it means to be a leader and I\n",
      "keywords ['team member support', 'leadership skills', 'supportive leadership', 'leadership skill', 'team members']\n",
      "----------\n"
     ]
    }
   ],
   "source": [
    "# Search in both text and keywords : first 3\n",
    "query = {\n",
    "        \"multi_match\": {\n",
    "            \"query\": \"helped me personally\",\n",
    "            \"fields\": [\"text\", \"keywords\"]\n",
    "        }\n",
    "}\n",
    "resp = es.search(index=elastic_ind, query=query,size=3)\n",
    "for hits in resp.body['hits']['hits']:\n",
    "    print(hits['_source']['text'])\n",
    "    print('keywords',hits['_source']['keywords'])\n",
    "    print('-'*10)"
   ]
  },
  {
   "cell_type": "markdown",
   "metadata": {},
   "source": [
    "##### KNN Search with SentenceTransformer vectors"
   ]
  },
  {
   "cell_type": "code",
   "execution_count": 44,
   "metadata": {},
   "outputs": [],
   "source": [
    "# KNN search with embeddings/vectors\n",
    "def knn_search(query_text, top_k=5):\n",
    "    # Generate embedding for the query\n",
    "    query_vector = model.encode(query_text)\n",
    "    \n",
    "    # Construct the query\n",
    "    query = {\n",
    "        \"field\": \"text_vector\",\n",
    "        \"query_vector\": query_vector,\n",
    "        \"k\": top_k\n",
    "    }\n",
    "    \n",
    "    response = es.search(index=elastic_ind, knn=query)\n",
    "    return response"
   ]
  },
  {
   "cell_type": "code",
   "execution_count": 50,
   "metadata": {},
   "outputs": [
    {
     "name": "stdout",
     "output_type": "stream",
     "text": [
      "I genuinely want to take a moment to thank you for all the support you have given to me also for the whole team. your willingness to help and understanding are truly amazing. you have been patient with all of us you have guided us never made us feel low always spoken gentle to us in any kind of circumstances. one of your Inspiring habits which I have started following now save water and never waste food.\n",
      "keywords ['inspiration', 'genuine gratitude', 'patience', 'patient support', 'support', 'team willingness']\n",
      "----------\n",
      "My reporting manager is very knowledgeable person who can reached out for any support in work and who also supports their team members in every aspect. Supporting the statements above am new member in the team my manager guided me for the system access with daily follow up email with customer and wherein I gained the knowledge by which now am able to handle the work individually. Your hands on approach helped us the meet ahead of the deadline for the Incidents and maintain a positive atmosphere. I recognize that finding a good balance takes effort I enjoy the opportunities you offer for us to learn and develop new skills so thank you for your commitment to mentoring our team.\n",
      "keywords ['team member support', 'mentoring', 'mentoring team', 'support', 'support work']\n",
      "----------\n",
      "My manager is superb. She is very helpful and supportive. She always provides opportunities to grow. I want to share one more thing my teammates are also very helpful. They supported me at every point where I got stuck. They give proper guidance to easily understand the project. Thank you so much manager and my teammates.\n",
      "keywords ['supportive', 'Support', 'Teammates', 'support', 'growth']\n",
      "----------\n",
      "My manager is a great leader. She is always supportive and encouraging and she is always looking for ways to help her team members succeed. One day I was working on a particularly challenging project and I was feeling really overwhelmed. I went to my manager for help and she took the time to sit down with me and listen to my concerns. She then offered her help and guidance and she helped me to develop a plan to complete the project. With my managers help I was able to complete the project on time and to a high standard. I was so grateful for her support and I was really impressed by her leadership skills. This experience was a WOW moment for me because it showed me how much my manager cares about her team members and how committed she is to their success. It also showed me how important it is to have a supportive manager who is willing to help you when you need it. I am so lucky to have my manager as a role model. She is a great example of what it means to be a leader and I\n",
      "keywords ['team member support', 'leadership skills', 'supportive leadership', 'leadership skill', 'team members']\n",
      "----------\n",
      "Over the past seven years I have had the privilege of working with various managers who have been instrumental in supporting my career growth and providing valuable input for my professional development. During challenging times they offered valuable suggestions and assistance enabling me to enhance both my technical skills and social abilities. Their guidance has been crucial to my overall growth as a professional.\n",
      "keywords ['technical skill', 'social ability guidance', 'career growth', 'professional development']\n",
      "----------\n"
     ]
    }
   ],
   "source": [
    "resp = knn_search(\"helped me personally\")\n",
    "for hits in resp.body['hits']['hits']:\n",
    "    print(hits['_source']['text'])\n",
    "    print('keywords',hits['_source']['keywords'])\n",
    "    print('-'*10)"
   ]
  },
  {
   "cell_type": "markdown",
   "metadata": {},
   "source": [
    "### Section 7: GenAI\n",
    "- Useful for applications once sensitive employee information, such as names, is redacted.\n",
    "- PII with tools like Microsoft Presidio or NLP techniques."
   ]
  },
  {
   "cell_type": "code",
   "execution_count": 46,
   "metadata": {},
   "outputs": [],
   "source": [
    "groq = Groq(api_key=os.getenv('GROQ'))"
   ]
  },
  {
   "cell_type": "code",
   "execution_count": 31,
   "metadata": {},
   "outputs": [],
   "source": [
    "prompt = f\"\"\"\n",
    "Given an employee's story about a WOW moment with their manager, extract meaningful keywords/hashtags that capture:\n",
    "1. The situation/context (e.g., project deadline, personal challenge)\n",
    "2. Specific impactful actions by the manager\n",
    "3. The positive outcome or transformation\n",
    "4. Emotional impact or personal growth\n",
    "5. Notable support aspects\n",
    "\n",
    "The keywords should:\n",
    "- Capture inspiring/transformative moments\n",
    "- Be 1-3 words long\n",
    "- Exclude generic terms like \"manager\" or \"HCL\"\n",
    "- Focus on the unique aspects of the experience\n",
    "- Be suitable for finding similar inspiring stories\n",
    "\n",
    "Story: {df['Story'][0]}\n",
    "\"\"\""
   ]
  },
  {
   "cell_type": "code",
   "execution_count": 32,
   "metadata": {},
   "outputs": [],
   "source": [
    "class KeyWords(BaseModel):\n",
    "    keywords:List[str] = Field(...,description=\"Extract the keywords from the story\")"
   ]
  },
  {
   "cell_type": "code",
   "execution_count": 54,
   "metadata": {},
   "outputs": [
    {
     "name": "stdout",
     "output_type": "stream",
     "text": [
      "He is talented and always ahead of the game He envisions requirements and pit holes to be covered. Gives enough time to achieve tasks end to end by not just patching but a proper solution. Recognises people expertise and gives value . He plans deliverables reasonably great so that we all enjoy our work. We always be driven to introduce new things to platform which always be a good learning and excitement. So I am giving the badges which I felt he deserves.\n",
      "keywords: ['InnovativeLeader', 'TaskDriven', 'RecognitionBadge', 'ExpertValue', 'DeliverableFocus', 'PlatformInnovation', 'LearningExcitement', 'TalentEmpowerment', 'TransformationalManagement']\n"
     ]
    }
   ],
   "source": [
    "\n",
    "chat_completion = groq.chat.completions.create(\n",
    "    messages=[\n",
    "        {\n",
    "            \"role\": \"system\",\n",
    "            \"content\": \"You are a Keyword/Hastag generator\\n\"\n",
    "            f\" The JSON object must use the schema: {json.dumps(KeyWords.model_json_schema(), indent=2)}\",\n",
    "        },\n",
    "        {\n",
    "            \"role\": \"user\",\n",
    "            \"content\": prompt,\n",
    "        },\n",
    "    ],\n",
    "    model=\"llama3-8b-8192\",\n",
    "    temperature=0,\n",
    "    # Streaming is not supported in JSON mode\n",
    "    stream=False,\n",
    "    # Enable JSON mode by setting the response format\n",
    "    response_format={\"type\": \"json_object\"},\n",
    ")\n",
    "print(df['Story'][0])\n",
    "print(\"keywords:\",KeyWords.model_validate_json(chat_completion.choices[0].message.content).keywords)\n",
    "\n"
   ]
  },
  {
   "cell_type": "code",
   "execution_count": 55,
   "metadata": {},
   "outputs": [
    {
     "data": {
      "text/html": [
       "<div>\n",
       "<style scoped>\n",
       "    .dataframe tbody tr th:only-of-type {\n",
       "        vertical-align: middle;\n",
       "    }\n",
       "\n",
       "    .dataframe tbody tr th {\n",
       "        vertical-align: top;\n",
       "    }\n",
       "\n",
       "    .dataframe thead th {\n",
       "        text-align: right;\n",
       "    }\n",
       "</style>\n",
       "<table border=\"1\" class=\"dataframe\">\n",
       "  <thead>\n",
       "    <tr style=\"text-align: right;\">\n",
       "      <th></th>\n",
       "      <th>Story ID</th>\n",
       "      <th>Story</th>\n",
       "      <th>cleaned_text</th>\n",
       "      <th>tokens</th>\n",
       "      <th>keywords_tf-idf</th>\n",
       "      <th>keywords_rake</th>\n",
       "      <th>keywords_text_rank</th>\n",
       "      <th>keywords_uncleaned</th>\n",
       "      <th>keywords_cleaned_text</th>\n",
       "      <th>keywords</th>\n",
       "    </tr>\n",
       "  </thead>\n",
       "  <tbody>\n",
       "    <tr>\n",
       "      <th>0</th>\n",
       "      <td>597</td>\n",
       "      <td>He is talented and always ahead of the game He...</td>\n",
       "      <td>talented always ahead game envisions requireme...</td>\n",
       "      <td>[talented, always, ahead, game, envisions, req...</td>\n",
       "      <td>[requirement pit hole, people expertise value,...</td>\n",
       "      <td>[plans deliverables reasonably great, recognis...</td>\n",
       "      <td>[new things, pit holes, enough time, Recognise...</td>\n",
       "      <td>[talented, ahead of the game, team collaboration]</td>\n",
       "      <td>[talented, requirement, solution]</td>\n",
       "      <td>[solution, requirement, talented, ahead of the...</td>\n",
       "    </tr>\n",
       "    <tr>\n",
       "      <th>1</th>\n",
       "      <td>1254</td>\n",
       "      <td>Over the past seven years I have had the privi...</td>\n",
       "      <td>past seven year privilege working various mana...</td>\n",
       "      <td>[past, seven, year, privilege, working, variou...</td>\n",
       "      <td>[working various manager, ability guidance cru...</td>\n",
       "      <td>[providing valuable input, past seven years, o...</td>\n",
       "      <td>[valuable suggestions, valuable input, various...</td>\n",
       "      <td>[manager support, career growth, professional ...</td>\n",
       "      <td>[professional development, technical skill, so...</td>\n",
       "      <td>[technical skill, social ability guidance, car...</td>\n",
       "    </tr>\n",
       "    <tr>\n",
       "      <th>2</th>\n",
       "      <td>414</td>\n",
       "      <td>Its been only few months working with her but ...</td>\n",
       "      <td>month working look like spend year find like m...</td>\n",
       "      <td>[month, working, look, like, spend, year, find...</td>\n",
       "      <td>[better direct reporting, working look like, b...</td>\n",
       "      <td>[hcl people transform people empowers, pings h...</td>\n",
       "      <td>[HCL people, people, ease, confidence, first, ...</td>\n",
       "      <td>[HCL, direct reporting manager, transformation]</td>\n",
       "      <td>[month working, comfort, motivation]</td>\n",
       "      <td>[motivation, month working, comfort, transform...</td>\n",
       "    </tr>\n",
       "    <tr>\n",
       "      <th>3</th>\n",
       "      <td>2</td>\n",
       "      <td>My manager is a great leader. She is always su...</td>\n",
       "      <td>great leader always supportive encouraging alw...</td>\n",
       "      <td>[great, leader, always, supportive, encouragin...</td>\n",
       "      <td>[time high standard, success showed important,...</td>\n",
       "      <td>[feeling really overwhelmed, team members succ...</td>\n",
       "      <td>[time, help, a supportive manager, ways, guida...</td>\n",
       "      <td>[supportive manager, team members, leadership ...</td>\n",
       "      <td>[supportive leadership, team member support, l...</td>\n",
       "      <td>[team member support, leadership skills, suppo...</td>\n",
       "    </tr>\n",
       "    <tr>\n",
       "      <th>4</th>\n",
       "      <td>999</td>\n",
       "      <td>My manager consistently demonstrates remarkabl...</td>\n",
       "      <td>consistently demonstrates remarkable composure...</td>\n",
       "      <td>[consistently, demonstrates, remarkable, compo...</td>\n",
       "      <td>[shoe level empathy, truly grasp perspective, ...</td>\n",
       "      <td>[manager consistently demonstrates remarkable ...</td>\n",
       "      <td>[fosters collaboration trust, remarkable compo...</td>\n",
       "      <td>[manager, composure, collaboration trust]</td>\n",
       "      <td>[compassiveness, patience, empathy understanding]</td>\n",
       "      <td>[composure, compassiveness, patience, empathy ...</td>\n",
       "    </tr>\n",
       "  </tbody>\n",
       "</table>\n",
       "</div>"
      ],
      "text/plain": [
       "   Story ID                                              Story  \\\n",
       "0       597  He is talented and always ahead of the game He...   \n",
       "1      1254  Over the past seven years I have had the privi...   \n",
       "2       414  Its been only few months working with her but ...   \n",
       "3         2  My manager is a great leader. She is always su...   \n",
       "4       999  My manager consistently demonstrates remarkabl...   \n",
       "\n",
       "                                        cleaned_text  \\\n",
       "0  talented always ahead game envisions requireme...   \n",
       "1  past seven year privilege working various mana...   \n",
       "2  month working look like spend year find like m...   \n",
       "3  great leader always supportive encouraging alw...   \n",
       "4  consistently demonstrates remarkable composure...   \n",
       "\n",
       "                                              tokens  \\\n",
       "0  [talented, always, ahead, game, envisions, req...   \n",
       "1  [past, seven, year, privilege, working, variou...   \n",
       "2  [month, working, look, like, spend, year, find...   \n",
       "3  [great, leader, always, supportive, encouragin...   \n",
       "4  [consistently, demonstrates, remarkable, compo...   \n",
       "\n",
       "                                     keywords_tf-idf  \\\n",
       "0  [requirement pit hole, people expertise value,...   \n",
       "1  [working various manager, ability guidance cru...   \n",
       "2  [better direct reporting, working look like, b...   \n",
       "3  [time high standard, success showed important,...   \n",
       "4  [shoe level empathy, truly grasp perspective, ...   \n",
       "\n",
       "                                       keywords_rake  \\\n",
       "0  [plans deliverables reasonably great, recognis...   \n",
       "1  [providing valuable input, past seven years, o...   \n",
       "2  [hcl people transform people empowers, pings h...   \n",
       "3  [feeling really overwhelmed, team members succ...   \n",
       "4  [manager consistently demonstrates remarkable ...   \n",
       "\n",
       "                                  keywords_text_rank  \\\n",
       "0  [new things, pit holes, enough time, Recognise...   \n",
       "1  [valuable suggestions, valuable input, various...   \n",
       "2  [HCL people, people, ease, confidence, first, ...   \n",
       "3  [time, help, a supportive manager, ways, guida...   \n",
       "4  [fosters collaboration trust, remarkable compo...   \n",
       "\n",
       "                                  keywords_uncleaned  \\\n",
       "0  [talented, ahead of the game, team collaboration]   \n",
       "1  [manager support, career growth, professional ...   \n",
       "2    [HCL, direct reporting manager, transformation]   \n",
       "3  [supportive manager, team members, leadership ...   \n",
       "4          [manager, composure, collaboration trust]   \n",
       "\n",
       "                               keywords_cleaned_text  \\\n",
       "0                  [talented, requirement, solution]   \n",
       "1  [professional development, technical skill, so...   \n",
       "2               [month working, comfort, motivation]   \n",
       "3  [supportive leadership, team member support, l...   \n",
       "4  [compassiveness, patience, empathy understanding]   \n",
       "\n",
       "                                            keywords  \n",
       "0  [solution, requirement, talented, ahead of the...  \n",
       "1  [technical skill, social ability guidance, car...  \n",
       "2  [motivation, month working, comfort, transform...  \n",
       "3  [team member support, leadership skills, suppo...  \n",
       "4  [composure, compassiveness, patience, empathy ...  "
      ]
     },
     "execution_count": 55,
     "metadata": {},
     "output_type": "execute_result"
    }
   ],
   "source": [
    "# Dataframe with key words from multiple methods\n",
    "df.head(5)"
   ]
  },
  {
   "cell_type": "markdown",
   "metadata": {},
   "source": [
    "\n",
    "### Inference  \n",
    "\n",
    " **Problem Statement Limitations**:  \n",
    "  - Keywords are not pre-defined.  \n",
    "  - The number of keywords per story varies depending on its size and content.  \n",
    "\n",
    "**If Keywords are Pre-defined**:  \n",
    "  - **Keyword Extraction**: Use of zero-shot classification models like [Bart-large](https://huggingface.co/facebook/bart-large-mnli) to classify up to 10 predefined classes for keyword assignment.  \n",
    "  \n",
    "  - **Search**: Exact keyword search becomes feasible.  \n",
    "\n",
    " **If Keywords are Not Defined**:  \n",
    "  - **Keyword Extraction** from stories:  \n",
    "    - TF-IDF  \n",
    "    - RAKE  \n",
    "    - TextRank  \n",
    "    - BART for keyword generation (Text-to-Text).  \n",
    "  - **Search**: Use similarity-based searching with respect to the context and extracted keywords.  \n",
    "\n",
    " **Why Elasticsearch Over RAG?**<br>\n",
    "  *Considering the vast employee count of HCLTech (~218,000), Elasticsearch offers distributed scalability to handle extensive data, ensuring efficient search and actionable insights from unstructured employee stories.*\n",
    "  - **Performance and Scalability**:\n",
    "    - the document retrieval is more flexible compared to other vectorDB\n",
    "    - the scalability is much better in ElasticSearch\n",
    "  - **Flexibility**: It handles both structured (pre-defined keywords) and unstructured data (extracted keywords or embeddings) seamlessly.  \n",
    "  - Simple search methods to KNN based search is offered\n",
    "\n",
    " **Use of GenAI:**<br>\n",
    "  *Employee confidentiallity needs to be protected first - redacting the sensitive information from the stories.*\n",
    "  - Open source models like **Llama3.3** etc can be used to extract keywords.\n",
    "  - can be used to extract context-based Keywords even from large user-stories.<br>\n",
    "  \n",
    "**Enhancement idea:**<br>\n",
    "  - [TNT-LLM](https://arxiv.org/pdf/2403.12173) : The TNT LLM extracts contextually relevant keywords and performs semantic analysis for ranking and retrieval. It efficiently processes both structured documents and simple text paragraphs. \n",
    "\n",
    "---\n"
   ]
  },
  {
   "cell_type": "code",
   "execution_count": null,
   "metadata": {},
   "outputs": [],
   "source": []
  }
 ],
 "metadata": {
  "kernelspec": {
   "display_name": "hcl",
   "language": "python",
   "name": "python3"
  },
  "language_info": {
   "codemirror_mode": {
    "name": "ipython",
    "version": 3
   },
   "file_extension": ".py",
   "mimetype": "text/x-python",
   "name": "python",
   "nbconvert_exporter": "python",
   "pygments_lexer": "ipython3",
   "version": "3.10.10"
  }
 },
 "nbformat": 4,
 "nbformat_minor": 2
}
